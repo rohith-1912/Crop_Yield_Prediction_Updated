{
 "cells": [
  {
   "cell_type": "markdown",
   "id": "82fe0790",
   "metadata": {},
   "source": [
    "##### Importing Packages"
   ]
  },
  {
   "cell_type": "code",
   "execution_count": 52,
   "id": "0487328d",
   "metadata": {},
   "outputs": [],
   "source": [
    "import pandas as pd\n",
    "from sklearn.model_selection import train_test_split\n",
    "from sklearn.preprocessing import LabelEncoder, StandardScaler\n",
    "from sklearn.metrics import r2_score, mean_squared_error"
   ]
  },
  {
   "cell_type": "code",
   "execution_count": 53,
   "id": "6645f5e0",
   "metadata": {},
   "outputs": [],
   "source": [
    "from sklearn.linear_model import LinearRegression\n",
    "from sklearn.svm import SVR\n",
    "from sklearn.ensemble import RandomForestRegressor\n",
    "from sklearn.tree import DecisionTreeRegressor\n",
    "from sklearn.neighbors import KNeighborsRegressor"
   ]
  },
  {
   "cell_type": "markdown",
   "id": "8491eddf",
   "metadata": {},
   "source": [
    "##### importing DataSet"
   ]
  },
  {
   "cell_type": "code",
   "execution_count": 54,
   "id": "1f8776d9",
   "metadata": {},
   "outputs": [
    {
     "data": {
      "text/plain": [
       "(109, 7)"
      ]
     },
     "execution_count": 54,
     "metadata": {},
     "output_type": "execute_result"
    }
   ],
   "source": [
    "data = pd.read_excel(\"crop yield data sheet.xlsx\")\n",
    "data.shape"
   ]
  },
  {
   "cell_type": "code",
   "execution_count": 55,
   "id": "6f5ea377",
   "metadata": {},
   "outputs": [],
   "source": [
    "data = data.dropna()"
   ]
  },
  {
   "cell_type": "markdown",
   "id": "d0ecac27",
   "metadata": {},
   "source": [
    "##### Data Preprocessing"
   ]
  },
  {
   "cell_type": "code",
   "execution_count": 56,
   "id": "f0482f5b",
   "metadata": {},
   "outputs": [],
   "source": [
    "categorical_cols = data.select_dtypes(include=[\"object\"]).columns\n",
    "\n",
    "\n",
    "le = LabelEncoder()\n",
    "for col in categorical_cols:\n",
    "    data[col] = le.fit_transform(data[col].astype(str))"
   ]
  },
  {
   "cell_type": "code",
   "execution_count": 57,
   "id": "16db3d01",
   "metadata": {},
   "outputs": [],
   "source": [
    "X = data.drop(\"Yeild (Q/acre)\", axis=1)\n",
    "y = data[\"Yeild (Q/acre)\"]"
   ]
  },
  {
   "cell_type": "markdown",
   "id": "96d33a17",
   "metadata": {},
   "source": [
    "##### Train Test Split"
   ]
  },
  {
   "cell_type": "code",
   "execution_count": 58,
   "id": "2b5f867f",
   "metadata": {},
   "outputs": [],
   "source": [
    "X_train, X_test, y_train, y_test = train_test_split(X, y, test_size=0.2, random_state=42)"
   ]
  },
  {
   "cell_type": "markdown",
   "id": "6780da31",
   "metadata": {},
   "source": [
    "##### Standard Scaler"
   ]
  },
  {
   "cell_type": "code",
   "execution_count": 59,
   "id": "e4da2b48",
   "metadata": {},
   "outputs": [],
   "source": [
    "scaler = StandardScaler()\n",
    "X_train = scaler.fit_transform(X_train)\n",
    "X_test = scaler.transform(X_test)"
   ]
  },
  {
   "cell_type": "markdown",
   "id": "9fcaf63b",
   "metadata": {},
   "source": [
    "##### Models"
   ]
  },
  {
   "cell_type": "code",
   "execution_count": 60,
   "id": "56590b84",
   "metadata": {},
   "outputs": [],
   "source": [
    "models = {\n",
    "\"Linear Regression\": LinearRegression(),\n",
    "\"SVM\": SVR(),\n",
    "\"Random Forest\": RandomForestRegressor(n_estimators=100, random_state=42),\n",
    "\"Decision Tree\": DecisionTreeRegressor(random_state=42),\n",
    "\"KNN\": KNeighborsRegressor(n_neighbors=5)\n",
    "}"
   ]
  },
  {
   "cell_type": "code",
   "execution_count": 62,
   "id": "74352b90",
   "metadata": {},
   "outputs": [
    {
     "name": "stdout",
     "output_type": "stream",
     "text": [
      "\n",
      "===========================\n",
      "Linear Regression\n",
      "R² Score: 0.9014766540910233\n",
      "RMSE: 0.4612739901275904\n",
      "\n",
      "===========================\n",
      "SVM\n",
      "R² Score: 0.8693952518412341\n",
      "RMSE: 0.611475105285822\n",
      "\n",
      "===========================\n",
      "Random Forest\n",
      "R² Score: 0.8900288346015218\n",
      "RMSE: 0.51487125\n",
      "\n",
      "===========================\n",
      "Decision Tree\n",
      "R² Score: 0.7623815244960619\n",
      "RMSE: 1.1125\n",
      "\n",
      "===========================\n",
      "KNN\n",
      "R² Score: 0.917874783073021\n",
      "RMSE: 0.38449999999999995\n"
     ]
    }
   ],
   "source": [
    "for name, model in models.items():\n",
    "    print(\"\\n===========================\")\n",
    "    print(f\"{name}\")\n",
    "    model.fit(X_train, y_train)\n",
    "    y_pred = model.predict(X_test)\n",
    "\n",
    "\n",
    "    r2 = r2_score(y_test, y_pred)\n",
    "    rmse = mean_squared_error(y_test, y_pred)\n",
    "\n",
    "\n",
    "    print(\"R² Score:\", r2)\n",
    "    print(\"RMSE:\", rmse)    "
   ]
  }
 ],
 "metadata": {
  "kernelspec": {
   "display_name": "Python 3",
   "language": "python",
   "name": "python3"
  },
  "language_info": {
   "codemirror_mode": {
    "name": "ipython",
    "version": 3
   },
   "file_extension": ".py",
   "mimetype": "text/x-python",
   "name": "python",
   "nbconvert_exporter": "python",
   "pygments_lexer": "ipython3",
   "version": "3.12.10"
  }
 },
 "nbformat": 4,
 "nbformat_minor": 5
}
